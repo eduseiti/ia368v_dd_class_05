{
  "nbformat": 4,
  "nbformat_minor": 0,
  "metadata": {
    "colab": {
      "provenance": []
    },
    "kernelspec": {
      "name": "python3",
      "display_name": "Python 3"
    },
    "language_info": {
      "name": "python"
    },
    "gpuClass": "premium",
    "accelerator": "GPU",
    "widgets": {
      "application/vnd.jupyter.widget-state+json": {
        "b552f86af6704f4fbdefdd0f069e7c38": {
          "model_module": "@jupyter-widgets/controls",
          "model_name": "HBoxModel",
          "model_module_version": "1.5.0",
          "state": {
            "_dom_classes": [],
            "_model_module": "@jupyter-widgets/controls",
            "_model_module_version": "1.5.0",
            "_model_name": "HBoxModel",
            "_view_count": null,
            "_view_module": "@jupyter-widgets/controls",
            "_view_module_version": "1.5.0",
            "_view_name": "HBoxView",
            "box_style": "",
            "children": [
              "IPY_MODEL_5967798494f84419b4c21aae2b632e23",
              "IPY_MODEL_159836a7c8124211982255adfd88bc9a",
              "IPY_MODEL_ef7182c951be48a88b299512112b4bdd"
            ],
            "layout": "IPY_MODEL_453bbe16b8fd495bba0586074a954439"
          }
        },
        "5967798494f84419b4c21aae2b632e23": {
          "model_module": "@jupyter-widgets/controls",
          "model_name": "HTMLModel",
          "model_module_version": "1.5.0",
          "state": {
            "_dom_classes": [],
            "_model_module": "@jupyter-widgets/controls",
            "_model_module_version": "1.5.0",
            "_model_name": "HTMLModel",
            "_view_count": null,
            "_view_module": "@jupyter-widgets/controls",
            "_view_module_version": "1.5.0",
            "_view_name": "HTMLView",
            "description": "",
            "description_tooltip": null,
            "layout": "IPY_MODEL_0d4ae1f1c7714097bbda88ec8e59a4d3",
            "placeholder": "​",
            "style": "IPY_MODEL_9f3827bbe3044fe0a31dfeb960a4dc47",
            "value": "Downloading (…)lve/main/config.json: 100%"
          }
        },
        "159836a7c8124211982255adfd88bc9a": {
          "model_module": "@jupyter-widgets/controls",
          "model_name": "FloatProgressModel",
          "model_module_version": "1.5.0",
          "state": {
            "_dom_classes": [],
            "_model_module": "@jupyter-widgets/controls",
            "_model_module_version": "1.5.0",
            "_model_name": "FloatProgressModel",
            "_view_count": null,
            "_view_module": "@jupyter-widgets/controls",
            "_view_module_version": "1.5.0",
            "_view_name": "ProgressView",
            "bar_style": "success",
            "description": "",
            "description_tooltip": null,
            "layout": "IPY_MODEL_38bc22d017964ab898ac5d36f408904d",
            "max": 651,
            "min": 0,
            "orientation": "horizontal",
            "style": "IPY_MODEL_5369be7da0d849959e6df3a23ef223a0",
            "value": 651
          }
        },
        "ef7182c951be48a88b299512112b4bdd": {
          "model_module": "@jupyter-widgets/controls",
          "model_name": "HTMLModel",
          "model_module_version": "1.5.0",
          "state": {
            "_dom_classes": [],
            "_model_module": "@jupyter-widgets/controls",
            "_model_module_version": "1.5.0",
            "_model_name": "HTMLModel",
            "_view_count": null,
            "_view_module": "@jupyter-widgets/controls",
            "_view_module_version": "1.5.0",
            "_view_name": "HTMLView",
            "description": "",
            "description_tooltip": null,
            "layout": "IPY_MODEL_5398445dae2c42ad82b5d94c9a234402",
            "placeholder": "​",
            "style": "IPY_MODEL_f6fde2a6ba0240fca89635086f0ab254",
            "value": " 651/651 [00:00&lt;00:00, 31.0kB/s]"
          }
        },
        "453bbe16b8fd495bba0586074a954439": {
          "model_module": "@jupyter-widgets/base",
          "model_name": "LayoutModel",
          "model_module_version": "1.2.0",
          "state": {
            "_model_module": "@jupyter-widgets/base",
            "_model_module_version": "1.2.0",
            "_model_name": "LayoutModel",
            "_view_count": null,
            "_view_module": "@jupyter-widgets/base",
            "_view_module_version": "1.2.0",
            "_view_name": "LayoutView",
            "align_content": null,
            "align_items": null,
            "align_self": null,
            "border": null,
            "bottom": null,
            "display": null,
            "flex": null,
            "flex_flow": null,
            "grid_area": null,
            "grid_auto_columns": null,
            "grid_auto_flow": null,
            "grid_auto_rows": null,
            "grid_column": null,
            "grid_gap": null,
            "grid_row": null,
            "grid_template_areas": null,
            "grid_template_columns": null,
            "grid_template_rows": null,
            "height": null,
            "justify_content": null,
            "justify_items": null,
            "left": null,
            "margin": null,
            "max_height": null,
            "max_width": null,
            "min_height": null,
            "min_width": null,
            "object_fit": null,
            "object_position": null,
            "order": null,
            "overflow": null,
            "overflow_x": null,
            "overflow_y": null,
            "padding": null,
            "right": null,
            "top": null,
            "visibility": null,
            "width": null
          }
        },
        "0d4ae1f1c7714097bbda88ec8e59a4d3": {
          "model_module": "@jupyter-widgets/base",
          "model_name": "LayoutModel",
          "model_module_version": "1.2.0",
          "state": {
            "_model_module": "@jupyter-widgets/base",
            "_model_module_version": "1.2.0",
            "_model_name": "LayoutModel",
            "_view_count": null,
            "_view_module": "@jupyter-widgets/base",
            "_view_module_version": "1.2.0",
            "_view_name": "LayoutView",
            "align_content": null,
            "align_items": null,
            "align_self": null,
            "border": null,
            "bottom": null,
            "display": null,
            "flex": null,
            "flex_flow": null,
            "grid_area": null,
            "grid_auto_columns": null,
            "grid_auto_flow": null,
            "grid_auto_rows": null,
            "grid_column": null,
            "grid_gap": null,
            "grid_row": null,
            "grid_template_areas": null,
            "grid_template_columns": null,
            "grid_template_rows": null,
            "height": null,
            "justify_content": null,
            "justify_items": null,
            "left": null,
            "margin": null,
            "max_height": null,
            "max_width": null,
            "min_height": null,
            "min_width": null,
            "object_fit": null,
            "object_position": null,
            "order": null,
            "overflow": null,
            "overflow_x": null,
            "overflow_y": null,
            "padding": null,
            "right": null,
            "top": null,
            "visibility": null,
            "width": null
          }
        },
        "9f3827bbe3044fe0a31dfeb960a4dc47": {
          "model_module": "@jupyter-widgets/controls",
          "model_name": "DescriptionStyleModel",
          "model_module_version": "1.5.0",
          "state": {
            "_model_module": "@jupyter-widgets/controls",
            "_model_module_version": "1.5.0",
            "_model_name": "DescriptionStyleModel",
            "_view_count": null,
            "_view_module": "@jupyter-widgets/base",
            "_view_module_version": "1.2.0",
            "_view_name": "StyleView",
            "description_width": ""
          }
        },
        "38bc22d017964ab898ac5d36f408904d": {
          "model_module": "@jupyter-widgets/base",
          "model_name": "LayoutModel",
          "model_module_version": "1.2.0",
          "state": {
            "_model_module": "@jupyter-widgets/base",
            "_model_module_version": "1.2.0",
            "_model_name": "LayoutModel",
            "_view_count": null,
            "_view_module": "@jupyter-widgets/base",
            "_view_module_version": "1.2.0",
            "_view_name": "LayoutView",
            "align_content": null,
            "align_items": null,
            "align_self": null,
            "border": null,
            "bottom": null,
            "display": null,
            "flex": null,
            "flex_flow": null,
            "grid_area": null,
            "grid_auto_columns": null,
            "grid_auto_flow": null,
            "grid_auto_rows": null,
            "grid_column": null,
            "grid_gap": null,
            "grid_row": null,
            "grid_template_areas": null,
            "grid_template_columns": null,
            "grid_template_rows": null,
            "height": null,
            "justify_content": null,
            "justify_items": null,
            "left": null,
            "margin": null,
            "max_height": null,
            "max_width": null,
            "min_height": null,
            "min_width": null,
            "object_fit": null,
            "object_position": null,
            "order": null,
            "overflow": null,
            "overflow_x": null,
            "overflow_y": null,
            "padding": null,
            "right": null,
            "top": null,
            "visibility": null,
            "width": null
          }
        },
        "5369be7da0d849959e6df3a23ef223a0": {
          "model_module": "@jupyter-widgets/controls",
          "model_name": "ProgressStyleModel",
          "model_module_version": "1.5.0",
          "state": {
            "_model_module": "@jupyter-widgets/controls",
            "_model_module_version": "1.5.0",
            "_model_name": "ProgressStyleModel",
            "_view_count": null,
            "_view_module": "@jupyter-widgets/base",
            "_view_module_version": "1.2.0",
            "_view_name": "StyleView",
            "bar_color": null,
            "description_width": ""
          }
        },
        "5398445dae2c42ad82b5d94c9a234402": {
          "model_module": "@jupyter-widgets/base",
          "model_name": "LayoutModel",
          "model_module_version": "1.2.0",
          "state": {
            "_model_module": "@jupyter-widgets/base",
            "_model_module_version": "1.2.0",
            "_model_name": "LayoutModel",
            "_view_count": null,
            "_view_module": "@jupyter-widgets/base",
            "_view_module_version": "1.2.0",
            "_view_name": "LayoutView",
            "align_content": null,
            "align_items": null,
            "align_self": null,
            "border": null,
            "bottom": null,
            "display": null,
            "flex": null,
            "flex_flow": null,
            "grid_area": null,
            "grid_auto_columns": null,
            "grid_auto_flow": null,
            "grid_auto_rows": null,
            "grid_column": null,
            "grid_gap": null,
            "grid_row": null,
            "grid_template_areas": null,
            "grid_template_columns": null,
            "grid_template_rows": null,
            "height": null,
            "justify_content": null,
            "justify_items": null,
            "left": null,
            "margin": null,
            "max_height": null,
            "max_width": null,
            "min_height": null,
            "min_width": null,
            "object_fit": null,
            "object_position": null,
            "order": null,
            "overflow": null,
            "overflow_x": null,
            "overflow_y": null,
            "padding": null,
            "right": null,
            "top": null,
            "visibility": null,
            "width": null
          }
        },
        "f6fde2a6ba0240fca89635086f0ab254": {
          "model_module": "@jupyter-widgets/controls",
          "model_name": "DescriptionStyleModel",
          "model_module_version": "1.5.0",
          "state": {
            "_model_module": "@jupyter-widgets/controls",
            "_model_module_version": "1.5.0",
            "_model_name": "DescriptionStyleModel",
            "_view_count": null,
            "_view_module": "@jupyter-widgets/base",
            "_view_module_version": "1.2.0",
            "_view_name": "StyleView",
            "description_width": ""
          }
        },
        "a59de05fb7794be29e023516b3281a2a": {
          "model_module": "@jupyter-widgets/controls",
          "model_name": "HBoxModel",
          "model_module_version": "1.5.0",
          "state": {
            "_dom_classes": [],
            "_model_module": "@jupyter-widgets/controls",
            "_model_module_version": "1.5.0",
            "_model_name": "HBoxModel",
            "_view_count": null,
            "_view_module": "@jupyter-widgets/controls",
            "_view_module_version": "1.5.0",
            "_view_name": "HBoxView",
            "box_style": "",
            "children": [
              "IPY_MODEL_2a027b135d0f450aa93072ecefeb1f6a",
              "IPY_MODEL_9d40a08deb2b407bacd292149596c2ca",
              "IPY_MODEL_73a3f338d51248cdb1f2a876691fcf13"
            ],
            "layout": "IPY_MODEL_63b8cdfb418044ad92b9ac15ee472b27"
          }
        },
        "2a027b135d0f450aa93072ecefeb1f6a": {
          "model_module": "@jupyter-widgets/controls",
          "model_name": "HTMLModel",
          "model_module_version": "1.5.0",
          "state": {
            "_dom_classes": [],
            "_model_module": "@jupyter-widgets/controls",
            "_model_module_version": "1.5.0",
            "_model_name": "HTMLModel",
            "_view_count": null,
            "_view_module": "@jupyter-widgets/controls",
            "_view_module_version": "1.5.0",
            "_view_name": "HTMLView",
            "description": "",
            "description_tooltip": null,
            "layout": "IPY_MODEL_b2d34e6d55a64d929a2b7c510e45f5db",
            "placeholder": "​",
            "style": "IPY_MODEL_01270e52d080439b88fecc5a3b96fb7d",
            "value": "Downloading pytorch_model.bin: 100%"
          }
        },
        "9d40a08deb2b407bacd292149596c2ca": {
          "model_module": "@jupyter-widgets/controls",
          "model_name": "FloatProgressModel",
          "model_module_version": "1.5.0",
          "state": {
            "_dom_classes": [],
            "_model_module": "@jupyter-widgets/controls",
            "_model_module_version": "1.5.0",
            "_model_name": "FloatProgressModel",
            "_view_count": null,
            "_view_module": "@jupyter-widgets/controls",
            "_view_module_version": "1.5.0",
            "_view_name": "ProgressView",
            "bar_style": "success",
            "description": "",
            "description_tooltip": null,
            "layout": "IPY_MODEL_901c5cfa9abd4faf8e1f2ce34f87c2be",
            "max": 250540281,
            "min": 0,
            "orientation": "horizontal",
            "style": "IPY_MODEL_73deb36231124db2b36d613b7f0f3352",
            "value": 250540281
          }
        },
        "73a3f338d51248cdb1f2a876691fcf13": {
          "model_module": "@jupyter-widgets/controls",
          "model_name": "HTMLModel",
          "model_module_version": "1.5.0",
          "state": {
            "_dom_classes": [],
            "_model_module": "@jupyter-widgets/controls",
            "_model_module_version": "1.5.0",
            "_model_name": "HTMLModel",
            "_view_count": null,
            "_view_module": "@jupyter-widgets/controls",
            "_view_module_version": "1.5.0",
            "_view_name": "HTMLView",
            "description": "",
            "description_tooltip": null,
            "layout": "IPY_MODEL_f72679fe5eb6437c9ba1abfb51e7be5a",
            "placeholder": "​",
            "style": "IPY_MODEL_2a4dc19b9bf34ef7b39dd78ffbba839d",
            "value": " 251M/251M [00:02&lt;00:00, 121MB/s]"
          }
        },
        "63b8cdfb418044ad92b9ac15ee472b27": {
          "model_module": "@jupyter-widgets/base",
          "model_name": "LayoutModel",
          "model_module_version": "1.2.0",
          "state": {
            "_model_module": "@jupyter-widgets/base",
            "_model_module_version": "1.2.0",
            "_model_name": "LayoutModel",
            "_view_count": null,
            "_view_module": "@jupyter-widgets/base",
            "_view_module_version": "1.2.0",
            "_view_name": "LayoutView",
            "align_content": null,
            "align_items": null,
            "align_self": null,
            "border": null,
            "bottom": null,
            "display": null,
            "flex": null,
            "flex_flow": null,
            "grid_area": null,
            "grid_auto_columns": null,
            "grid_auto_flow": null,
            "grid_auto_rows": null,
            "grid_column": null,
            "grid_gap": null,
            "grid_row": null,
            "grid_template_areas": null,
            "grid_template_columns": null,
            "grid_template_rows": null,
            "height": null,
            "justify_content": null,
            "justify_items": null,
            "left": null,
            "margin": null,
            "max_height": null,
            "max_width": null,
            "min_height": null,
            "min_width": null,
            "object_fit": null,
            "object_position": null,
            "order": null,
            "overflow": null,
            "overflow_x": null,
            "overflow_y": null,
            "padding": null,
            "right": null,
            "top": null,
            "visibility": null,
            "width": null
          }
        },
        "b2d34e6d55a64d929a2b7c510e45f5db": {
          "model_module": "@jupyter-widgets/base",
          "model_name": "LayoutModel",
          "model_module_version": "1.2.0",
          "state": {
            "_model_module": "@jupyter-widgets/base",
            "_model_module_version": "1.2.0",
            "_model_name": "LayoutModel",
            "_view_count": null,
            "_view_module": "@jupyter-widgets/base",
            "_view_module_version": "1.2.0",
            "_view_name": "LayoutView",
            "align_content": null,
            "align_items": null,
            "align_self": null,
            "border": null,
            "bottom": null,
            "display": null,
            "flex": null,
            "flex_flow": null,
            "grid_area": null,
            "grid_auto_columns": null,
            "grid_auto_flow": null,
            "grid_auto_rows": null,
            "grid_column": null,
            "grid_gap": null,
            "grid_row": null,
            "grid_template_areas": null,
            "grid_template_columns": null,
            "grid_template_rows": null,
            "height": null,
            "justify_content": null,
            "justify_items": null,
            "left": null,
            "margin": null,
            "max_height": null,
            "max_width": null,
            "min_height": null,
            "min_width": null,
            "object_fit": null,
            "object_position": null,
            "order": null,
            "overflow": null,
            "overflow_x": null,
            "overflow_y": null,
            "padding": null,
            "right": null,
            "top": null,
            "visibility": null,
            "width": null
          }
        },
        "01270e52d080439b88fecc5a3b96fb7d": {
          "model_module": "@jupyter-widgets/controls",
          "model_name": "DescriptionStyleModel",
          "model_module_version": "1.5.0",
          "state": {
            "_model_module": "@jupyter-widgets/controls",
            "_model_module_version": "1.5.0",
            "_model_name": "DescriptionStyleModel",
            "_view_count": null,
            "_view_module": "@jupyter-widgets/base",
            "_view_module_version": "1.2.0",
            "_view_name": "StyleView",
            "description_width": ""
          }
        },
        "901c5cfa9abd4faf8e1f2ce34f87c2be": {
          "model_module": "@jupyter-widgets/base",
          "model_name": "LayoutModel",
          "model_module_version": "1.2.0",
          "state": {
            "_model_module": "@jupyter-widgets/base",
            "_model_module_version": "1.2.0",
            "_model_name": "LayoutModel",
            "_view_count": null,
            "_view_module": "@jupyter-widgets/base",
            "_view_module_version": "1.2.0",
            "_view_name": "LayoutView",
            "align_content": null,
            "align_items": null,
            "align_self": null,
            "border": null,
            "bottom": null,
            "display": null,
            "flex": null,
            "flex_flow": null,
            "grid_area": null,
            "grid_auto_columns": null,
            "grid_auto_flow": null,
            "grid_auto_rows": null,
            "grid_column": null,
            "grid_gap": null,
            "grid_row": null,
            "grid_template_areas": null,
            "grid_template_columns": null,
            "grid_template_rows": null,
            "height": null,
            "justify_content": null,
            "justify_items": null,
            "left": null,
            "margin": null,
            "max_height": null,
            "max_width": null,
            "min_height": null,
            "min_width": null,
            "object_fit": null,
            "object_position": null,
            "order": null,
            "overflow": null,
            "overflow_x": null,
            "overflow_y": null,
            "padding": null,
            "right": null,
            "top": null,
            "visibility": null,
            "width": null
          }
        },
        "73deb36231124db2b36d613b7f0f3352": {
          "model_module": "@jupyter-widgets/controls",
          "model_name": "ProgressStyleModel",
          "model_module_version": "1.5.0",
          "state": {
            "_model_module": "@jupyter-widgets/controls",
            "_model_module_version": "1.5.0",
            "_model_name": "ProgressStyleModel",
            "_view_count": null,
            "_view_module": "@jupyter-widgets/base",
            "_view_module_version": "1.2.0",
            "_view_name": "StyleView",
            "bar_color": null,
            "description_width": ""
          }
        },
        "f72679fe5eb6437c9ba1abfb51e7be5a": {
          "model_module": "@jupyter-widgets/base",
          "model_name": "LayoutModel",
          "model_module_version": "1.2.0",
          "state": {
            "_model_module": "@jupyter-widgets/base",
            "_model_module_version": "1.2.0",
            "_model_name": "LayoutModel",
            "_view_count": null,
            "_view_module": "@jupyter-widgets/base",
            "_view_module_version": "1.2.0",
            "_view_name": "LayoutView",
            "align_content": null,
            "align_items": null,
            "align_self": null,
            "border": null,
            "bottom": null,
            "display": null,
            "flex": null,
            "flex_flow": null,
            "grid_area": null,
            "grid_auto_columns": null,
            "grid_auto_flow": null,
            "grid_auto_rows": null,
            "grid_column": null,
            "grid_gap": null,
            "grid_row": null,
            "grid_template_areas": null,
            "grid_template_columns": null,
            "grid_template_rows": null,
            "height": null,
            "justify_content": null,
            "justify_items": null,
            "left": null,
            "margin": null,
            "max_height": null,
            "max_width": null,
            "min_height": null,
            "min_width": null,
            "object_fit": null,
            "object_position": null,
            "order": null,
            "overflow": null,
            "overflow_x": null,
            "overflow_y": null,
            "padding": null,
            "right": null,
            "top": null,
            "visibility": null,
            "width": null
          }
        },
        "2a4dc19b9bf34ef7b39dd78ffbba839d": {
          "model_module": "@jupyter-widgets/controls",
          "model_name": "DescriptionStyleModel",
          "model_module_version": "1.5.0",
          "state": {
            "_model_module": "@jupyter-widgets/controls",
            "_model_module_version": "1.5.0",
            "_model_name": "DescriptionStyleModel",
            "_view_count": null,
            "_view_module": "@jupyter-widgets/base",
            "_view_module_version": "1.2.0",
            "_view_name": "StyleView",
            "description_width": ""
          }
        },
        "e4a1ded89d7e434987ccfb481617bb65": {
          "model_module": "@jupyter-widgets/controls",
          "model_name": "HBoxModel",
          "model_module_version": "1.5.0",
          "state": {
            "_dom_classes": [],
            "_model_module": "@jupyter-widgets/controls",
            "_model_module_version": "1.5.0",
            "_model_name": "HBoxModel",
            "_view_count": null,
            "_view_module": "@jupyter-widgets/controls",
            "_view_module_version": "1.5.0",
            "_view_name": "HBoxView",
            "box_style": "",
            "children": [
              "IPY_MODEL_9d36d133cdbf4007b3b0136babd36c1b",
              "IPY_MODEL_bf8388544cd04a658b203822f6718d5b",
              "IPY_MODEL_ba323192804d4c93a05d972f50d145a1"
            ],
            "layout": "IPY_MODEL_3c78f6a209cf486d9612c8728262ed05"
          }
        },
        "9d36d133cdbf4007b3b0136babd36c1b": {
          "model_module": "@jupyter-widgets/controls",
          "model_name": "HTMLModel",
          "model_module_version": "1.5.0",
          "state": {
            "_dom_classes": [],
            "_model_module": "@jupyter-widgets/controls",
            "_model_module_version": "1.5.0",
            "_model_name": "HTMLModel",
            "_view_count": null,
            "_view_module": "@jupyter-widgets/controls",
            "_view_module_version": "1.5.0",
            "_view_name": "HTMLView",
            "description": "",
            "description_tooltip": null,
            "layout": "IPY_MODEL_f33a8b57605f426c8b7c3edee4fb0653",
            "placeholder": "​",
            "style": "IPY_MODEL_991b331f92784c7abc48c9261b9ad3a3",
            "value": "Downloading (…)neration_config.json: 100%"
          }
        },
        "bf8388544cd04a658b203822f6718d5b": {
          "model_module": "@jupyter-widgets/controls",
          "model_name": "FloatProgressModel",
          "model_module_version": "1.5.0",
          "state": {
            "_dom_classes": [],
            "_model_module": "@jupyter-widgets/controls",
            "_model_module_version": "1.5.0",
            "_model_name": "FloatProgressModel",
            "_view_count": null,
            "_view_module": "@jupyter-widgets/controls",
            "_view_module_version": "1.5.0",
            "_view_name": "ProgressView",
            "bar_style": "success",
            "description": "",
            "description_tooltip": null,
            "layout": "IPY_MODEL_87effd7e194042169f318bc79d3de7c5",
            "max": 137,
            "min": 0,
            "orientation": "horizontal",
            "style": "IPY_MODEL_365909101b534b358bc52a5f128350f4",
            "value": 137
          }
        },
        "ba323192804d4c93a05d972f50d145a1": {
          "model_module": "@jupyter-widgets/controls",
          "model_name": "HTMLModel",
          "model_module_version": "1.5.0",
          "state": {
            "_dom_classes": [],
            "_model_module": "@jupyter-widgets/controls",
            "_model_module_version": "1.5.0",
            "_model_name": "HTMLModel",
            "_view_count": null,
            "_view_module": "@jupyter-widgets/controls",
            "_view_module_version": "1.5.0",
            "_view_name": "HTMLView",
            "description": "",
            "description_tooltip": null,
            "layout": "IPY_MODEL_18ea6837d40c4364847ab8e308cead54",
            "placeholder": "​",
            "style": "IPY_MODEL_2333e40393034945b8469347d3b46c97",
            "value": " 137/137 [00:00&lt;00:00, 7.54kB/s]"
          }
        },
        "3c78f6a209cf486d9612c8728262ed05": {
          "model_module": "@jupyter-widgets/base",
          "model_name": "LayoutModel",
          "model_module_version": "1.2.0",
          "state": {
            "_model_module": "@jupyter-widgets/base",
            "_model_module_version": "1.2.0",
            "_model_name": "LayoutModel",
            "_view_count": null,
            "_view_module": "@jupyter-widgets/base",
            "_view_module_version": "1.2.0",
            "_view_name": "LayoutView",
            "align_content": null,
            "align_items": null,
            "align_self": null,
            "border": null,
            "bottom": null,
            "display": null,
            "flex": null,
            "flex_flow": null,
            "grid_area": null,
            "grid_auto_columns": null,
            "grid_auto_flow": null,
            "grid_auto_rows": null,
            "grid_column": null,
            "grid_gap": null,
            "grid_row": null,
            "grid_template_areas": null,
            "grid_template_columns": null,
            "grid_template_rows": null,
            "height": null,
            "justify_content": null,
            "justify_items": null,
            "left": null,
            "margin": null,
            "max_height": null,
            "max_width": null,
            "min_height": null,
            "min_width": null,
            "object_fit": null,
            "object_position": null,
            "order": null,
            "overflow": null,
            "overflow_x": null,
            "overflow_y": null,
            "padding": null,
            "right": null,
            "top": null,
            "visibility": null,
            "width": null
          }
        },
        "f33a8b57605f426c8b7c3edee4fb0653": {
          "model_module": "@jupyter-widgets/base",
          "model_name": "LayoutModel",
          "model_module_version": "1.2.0",
          "state": {
            "_model_module": "@jupyter-widgets/base",
            "_model_module_version": "1.2.0",
            "_model_name": "LayoutModel",
            "_view_count": null,
            "_view_module": "@jupyter-widgets/base",
            "_view_module_version": "1.2.0",
            "_view_name": "LayoutView",
            "align_content": null,
            "align_items": null,
            "align_self": null,
            "border": null,
            "bottom": null,
            "display": null,
            "flex": null,
            "flex_flow": null,
            "grid_area": null,
            "grid_auto_columns": null,
            "grid_auto_flow": null,
            "grid_auto_rows": null,
            "grid_column": null,
            "grid_gap": null,
            "grid_row": null,
            "grid_template_areas": null,
            "grid_template_columns": null,
            "grid_template_rows": null,
            "height": null,
            "justify_content": null,
            "justify_items": null,
            "left": null,
            "margin": null,
            "max_height": null,
            "max_width": null,
            "min_height": null,
            "min_width": null,
            "object_fit": null,
            "object_position": null,
            "order": null,
            "overflow": null,
            "overflow_x": null,
            "overflow_y": null,
            "padding": null,
            "right": null,
            "top": null,
            "visibility": null,
            "width": null
          }
        },
        "991b331f92784c7abc48c9261b9ad3a3": {
          "model_module": "@jupyter-widgets/controls",
          "model_name": "DescriptionStyleModel",
          "model_module_version": "1.5.0",
          "state": {
            "_model_module": "@jupyter-widgets/controls",
            "_model_module_version": "1.5.0",
            "_model_name": "DescriptionStyleModel",
            "_view_count": null,
            "_view_module": "@jupyter-widgets/base",
            "_view_module_version": "1.2.0",
            "_view_name": "StyleView",
            "description_width": ""
          }
        },
        "87effd7e194042169f318bc79d3de7c5": {
          "model_module": "@jupyter-widgets/base",
          "model_name": "LayoutModel",
          "model_module_version": "1.2.0",
          "state": {
            "_model_module": "@jupyter-widgets/base",
            "_model_module_version": "1.2.0",
            "_model_name": "LayoutModel",
            "_view_count": null,
            "_view_module": "@jupyter-widgets/base",
            "_view_module_version": "1.2.0",
            "_view_name": "LayoutView",
            "align_content": null,
            "align_items": null,
            "align_self": null,
            "border": null,
            "bottom": null,
            "display": null,
            "flex": null,
            "flex_flow": null,
            "grid_area": null,
            "grid_auto_columns": null,
            "grid_auto_flow": null,
            "grid_auto_rows": null,
            "grid_column": null,
            "grid_gap": null,
            "grid_row": null,
            "grid_template_areas": null,
            "grid_template_columns": null,
            "grid_template_rows": null,
            "height": null,
            "justify_content": null,
            "justify_items": null,
            "left": null,
            "margin": null,
            "max_height": null,
            "max_width": null,
            "min_height": null,
            "min_width": null,
            "object_fit": null,
            "object_position": null,
            "order": null,
            "overflow": null,
            "overflow_x": null,
            "overflow_y": null,
            "padding": null,
            "right": null,
            "top": null,
            "visibility": null,
            "width": null
          }
        },
        "365909101b534b358bc52a5f128350f4": {
          "model_module": "@jupyter-widgets/controls",
          "model_name": "ProgressStyleModel",
          "model_module_version": "1.5.0",
          "state": {
            "_model_module": "@jupyter-widgets/controls",
            "_model_module_version": "1.5.0",
            "_model_name": "ProgressStyleModel",
            "_view_count": null,
            "_view_module": "@jupyter-widgets/base",
            "_view_module_version": "1.2.0",
            "_view_name": "StyleView",
            "bar_color": null,
            "description_width": ""
          }
        },
        "18ea6837d40c4364847ab8e308cead54": {
          "model_module": "@jupyter-widgets/base",
          "model_name": "LayoutModel",
          "model_module_version": "1.2.0",
          "state": {
            "_model_module": "@jupyter-widgets/base",
            "_model_module_version": "1.2.0",
            "_model_name": "LayoutModel",
            "_view_count": null,
            "_view_module": "@jupyter-widgets/base",
            "_view_module_version": "1.2.0",
            "_view_name": "LayoutView",
            "align_content": null,
            "align_items": null,
            "align_self": null,
            "border": null,
            "bottom": null,
            "display": null,
            "flex": null,
            "flex_flow": null,
            "grid_area": null,
            "grid_auto_columns": null,
            "grid_auto_flow": null,
            "grid_auto_rows": null,
            "grid_column": null,
            "grid_gap": null,
            "grid_row": null,
            "grid_template_areas": null,
            "grid_template_columns": null,
            "grid_template_rows": null,
            "height": null,
            "justify_content": null,
            "justify_items": null,
            "left": null,
            "margin": null,
            "max_height": null,
            "max_width": null,
            "min_height": null,
            "min_width": null,
            "object_fit": null,
            "object_position": null,
            "order": null,
            "overflow": null,
            "overflow_x": null,
            "overflow_y": null,
            "padding": null,
            "right": null,
            "top": null,
            "visibility": null,
            "width": null
          }
        },
        "2333e40393034945b8469347d3b46c97": {
          "model_module": "@jupyter-widgets/controls",
          "model_name": "DescriptionStyleModel",
          "model_module_version": "1.5.0",
          "state": {
            "_model_module": "@jupyter-widgets/controls",
            "_model_module_version": "1.5.0",
            "_model_name": "DescriptionStyleModel",
            "_view_count": null,
            "_view_module": "@jupyter-widgets/base",
            "_view_module_version": "1.2.0",
            "_view_name": "StyleView",
            "description_width": ""
          }
        }
      }
    }
  },
  "cells": [
    {
      "cell_type": "markdown",
      "source": [
        "# Causal Language Model (CLM) fine-tuning\n",
        "\n",
        "This notebook executes the fine-tuning of **facebook/opt-125m** model, over the mc4 pt dataset samples prepared by the `LM_training_dataset_preparation.ipynb` notebook."
      ],
      "metadata": {
        "id": "jm10mcBmMyUr"
      }
    },
    {
      "cell_type": "code",
      "source": [
        "!pip install transformers -q"
      ],
      "metadata": {
        "id": "IyoODiJf7UDV",
        "colab": {
          "base_uri": "https://localhost:8080/"
        },
        "outputId": "27c23013-2c74-414a-80f1-0f485bdae5dc"
      },
      "execution_count": 1,
      "outputs": [
        {
          "output_type": "stream",
          "name": "stdout",
          "text": [
            "\u001b[2K     \u001b[90m━━━━━━━━━━━━━━━━━━━━━━━━━━━━━━━━━━━━━━━━\u001b[0m \u001b[32m6.8/6.8 MB\u001b[0m \u001b[31m30.1 MB/s\u001b[0m eta \u001b[36m0:00:00\u001b[0m\n",
            "\u001b[2K     \u001b[90m━━━━━━━━━━━━━━━━━━━━━━━━━━━━━━━━━━━━━━\u001b[0m \u001b[32m199.8/199.8 KB\u001b[0m \u001b[31m16.3 MB/s\u001b[0m eta \u001b[36m0:00:00\u001b[0m\n",
            "\u001b[2K     \u001b[90m━━━━━━━━━━━━━━━━━━━━━━━━━━━━━━━━━━━━━━━━\u001b[0m \u001b[32m7.6/7.6 MB\u001b[0m \u001b[31m69.7 MB/s\u001b[0m eta \u001b[36m0:00:00\u001b[0m\n",
            "\u001b[?25h"
          ]
        }
      ]
    },
    {
      "cell_type": "code",
      "source": [
        "WORKING_FOLDER=\"drive/MyDrive/unicamp/ia368v_dd/aula_05\"\n",
        "\n",
        "API_KEYS_FILE=\"/content/drive/MyDrive/unicamp/ia368v_dd/api_keys_20230324.json\"\n",
        "\n",
        "TRAIN_OUTPUT_FOLDER=\"./trained_model_2048\"\n",
        "\n",
        "NORMALIZED_DATA_BLOCKS_PARTIAL_FILENAME=\"normalized_samples_block_2048_??.pkl\""
      ],
      "metadata": {
        "id": "gB0nBfaiLYJC"
      },
      "execution_count": 2,
      "outputs": []
    },
    {
      "cell_type": "code",
      "source": [
        "import os\n",
        "from google.colab import drive\n",
        "import json"
      ],
      "metadata": {
        "id": "J1H5lQXWbFF5"
      },
      "execution_count": 3,
      "outputs": []
    },
    {
      "cell_type": "code",
      "source": [
        "drive.mount('/content/drive', force_remount=True)\n",
        "os.chdir(WORKING_FOLDER)"
      ],
      "metadata": {
        "id": "mFNsI1WXLtsP",
        "colab": {
          "base_uri": "https://localhost:8080/"
        },
        "outputId": "b79fa66d-4cbe-4fb1-ef25-178ff4584064"
      },
      "execution_count": 4,
      "outputs": [
        {
          "output_type": "stream",
          "name": "stdout",
          "text": [
            "Mounted at /content/drive\n"
          ]
        }
      ]
    },
    {
      "cell_type": "code",
      "source": [
        "# with open(API_KEYS_FILE) as inputFile:\n",
        "#     api_keys = json.load(inputFile)\n",
        "\n",
        "# os.environ[\"COMET_API_KEY\"] = api_keys['comet_ml']\n",
        "# os.environ[\"COMET_LOG_ASSETS\"] = \"True\"\n",
        "# os.environ['COMET_MODE'] = \"ONLINE\""
      ],
      "metadata": {
        "id": "Exz2AKVDbGmK"
      },
      "execution_count": 5,
      "outputs": []
    },
    {
      "cell_type": "code",
      "source": [
        "# from comet_ml import Experiment\n",
        "\n",
        "from transformers import (AutoTokenizer, \n",
        "                          AutoModelForCausalLM, \n",
        "                          Trainer, \n",
        "                          TrainingArguments, \n",
        "                          TrainerCallback, \n",
        "                          get_cosine_with_hard_restarts_schedule_with_warmup)\n",
        "\n",
        "from multiprocessing import Pool\n",
        "\n",
        "import pickle\n",
        "\n",
        "import torch\n",
        "\n",
        "from tqdm.auto import tqdm\n",
        "\n",
        "import glob\n",
        "\n",
        "import numpy as np\n",
        "\n",
        "from typing import TYPE_CHECKING, Any, Callable, Dict, List, Optional, Tuple, Union"
      ],
      "metadata": {
        "id": "2iEim9qqLRab"
      },
      "execution_count": 6,
      "outputs": []
    },
    {
      "cell_type": "code",
      "source": [
        "device = torch.device('cuda' if torch.cuda.is_available() else 'cpu')"
      ],
      "metadata": {
        "id": "DcXd955oJhRE"
      },
      "execution_count": 7,
      "outputs": []
    },
    {
      "cell_type": "code",
      "source": [
        "device"
      ],
      "metadata": {
        "id": "Iet6vPCwJhRE",
        "colab": {
          "base_uri": "https://localhost:8080/"
        },
        "outputId": "112ef2fd-e315-4909-8710-e77374d425c1"
      },
      "execution_count": 8,
      "outputs": [
        {
          "output_type": "execute_result",
          "data": {
            "text/plain": [
              "device(type='cuda')"
            ]
          },
          "metadata": {},
          "execution_count": 8
        }
      ]
    },
    {
      "cell_type": "code",
      "source": [
        "!nvidia-smi"
      ],
      "metadata": {
        "id": "44pKblR9uKJv",
        "colab": {
          "base_uri": "https://localhost:8080/"
        },
        "outputId": "7f97875b-f70b-4e04-cabc-6ab05c3537e8"
      },
      "execution_count": 9,
      "outputs": [
        {
          "output_type": "stream",
          "name": "stdout",
          "text": [
            "Wed Mar 29 23:02:19 2023       \n",
            "+-----------------------------------------------------------------------------+\n",
            "| NVIDIA-SMI 525.85.12    Driver Version: 525.85.12    CUDA Version: 12.0     |\n",
            "|-------------------------------+----------------------+----------------------+\n",
            "| GPU  Name        Persistence-M| Bus-Id        Disp.A | Volatile Uncorr. ECC |\n",
            "| Fan  Temp  Perf  Pwr:Usage/Cap|         Memory-Usage | GPU-Util  Compute M. |\n",
            "|                               |                      |               MIG M. |\n",
            "|===============================+======================+======================|\n",
            "|   0  NVIDIA A100-SXM...  Off  | 00000000:00:04.0 Off |                    0 |\n",
            "| N/A   32C    P0    45W / 400W |      3MiB / 40960MiB |      0%      Default |\n",
            "|                               |                      |             Disabled |\n",
            "+-------------------------------+----------------------+----------------------+\n",
            "                                                                               \n",
            "+-----------------------------------------------------------------------------+\n",
            "| Processes:                                                                  |\n",
            "|  GPU   GI   CI        PID   Type   Process name                  GPU Memory |\n",
            "|        ID   ID                                                   Usage      |\n",
            "|=============================================================================|\n",
            "|  No running processes found                                                 |\n",
            "+-----------------------------------------------------------------------------+\n"
          ]
        }
      ]
    },
    {
      "cell_type": "code",
      "source": [
        "MODEL_NAME=\"facebook/opt-125m\""
      ],
      "metadata": {
        "id": "7k9UgWy7Wf77"
      },
      "execution_count": 10,
      "outputs": []
    },
    {
      "cell_type": "markdown",
      "source": [
        "## Link to Comet ML reporting"
      ],
      "metadata": {
        "id": "c2pyJsxgHxCO"
      }
    },
    {
      "cell_type": "code",
      "source": [
        "# Experiment(api_key=api_keys['comet_ml'], \n",
        "#            project_name=\"causal-language-model-fine-tuning\",\n",
        "#            workspace=\"eduseiti\")"
      ],
      "metadata": {
        "id": "Rxf3Y8TjH0iB"
      },
      "execution_count": 11,
      "outputs": []
    },
    {
      "cell_type": "markdown",
      "source": [
        "## Get the list of normalized-tokenized samples data blocked_samples\n",
        "\n",
        "The mc4 pt dataset sample has already been tokenized and size-normalized to 2048, which is the model input size.\n",
        "\n",
        "Each data block contains a list of prepared samples, each of which can be directly fed to the model:\n",
        "\n",
        "```\n",
        "    {'input_ids': <list-of-2048-tokens>,\n",
        "     'attention_masks': <list-of-2048-attention-masks>}\n",
        "```\n",
        "\n",
        "\n",
        "\n"
      ],
      "metadata": {
        "id": "GLsQX2lUwJtA"
      }
    },
    {
      "cell_type": "code",
      "source": [
        "data_blocks = glob.glob(NORMALIZED_DATA_BLOCKS_PARTIAL_FILENAME)"
      ],
      "metadata": {
        "id": "eMIwdJE6wJyU"
      },
      "execution_count": 12,
      "outputs": []
    },
    {
      "cell_type": "code",
      "source": [
        "data_blocks"
      ],
      "metadata": {
        "id": "_QGhlPPRwJ2r",
        "colab": {
          "base_uri": "https://localhost:8080/"
        },
        "outputId": "d5bc17ab-3980-4a47-b562-0b899307e1b4"
      },
      "execution_count": 13,
      "outputs": [
        {
          "output_type": "execute_result",
          "data": {
            "text/plain": [
              "['normalized_samples_block_2048_00.pkl',\n",
              " 'normalized_samples_block_2048_01.pkl',\n",
              " 'normalized_samples_block_2048_02.pkl',\n",
              " 'normalized_samples_block_2048_03.pkl',\n",
              " 'normalized_samples_block_2048_04.pkl',\n",
              " 'normalized_samples_block_2048_05.pkl',\n",
              " 'normalized_samples_block_2048_06.pkl',\n",
              " 'normalized_samples_block_2048_07.pkl',\n",
              " 'normalized_samples_block_2048_08.pkl',\n",
              " 'normalized_samples_block_2048_09.pkl',\n",
              " 'normalized_samples_block_2048_10.pkl',\n",
              " 'normalized_samples_block_2048_11.pkl',\n",
              " 'normalized_samples_block_2048_12.pkl',\n",
              " 'normalized_samples_block_2048_13.pkl',\n",
              " 'normalized_samples_block_2048_14.pkl',\n",
              " 'normalized_samples_block_2048_15.pkl',\n",
              " 'normalized_samples_block_2048_16.pkl',\n",
              " 'normalized_samples_block_2048_17.pkl',\n",
              " 'normalized_samples_block_2048_18.pkl',\n",
              " 'normalized_samples_block_2048_19.pkl',\n",
              " 'normalized_samples_block_2048_20.pkl',\n",
              " 'normalized_samples_block_2048_21.pkl',\n",
              " 'normalized_samples_block_2048_22.pkl',\n",
              " 'normalized_samples_block_2048_23.pkl',\n",
              " 'normalized_samples_block_2048_24.pkl']"
            ]
          },
          "metadata": {},
          "execution_count": 13
        }
      ]
    },
    {
      "cell_type": "markdown",
      "source": [
        "Define the dataset class"
      ],
      "metadata": {
        "id": "SkHAtH-wMNV9"
      }
    },
    {
      "cell_type": "code",
      "source": [
        "class Dataset(torch.utils.data.Dataset):\n",
        "    def __init__(self, samples_blocks_filenames, fixed_data_block_index=None, sampling_size=None):\n",
        "        self.samples_blocks_filenames = samples_blocks_filenames\n",
        "\n",
        "        if fixed_data_block_index is not None:\n",
        "            self.current_file_index = fixed_data_block_index\n",
        "            self.change_file_index = False\n",
        "        else:\n",
        "            self.current_file_index = 0\n",
        "            self.change_file_index = True\n",
        "\n",
        "        with open(samples_blocks_filenames[self.current_file_index], \"rb\") as inputFile:\n",
        "            self.db = pickle.load(inputFile)\n",
        "\n",
        "        print(\"Dataset loading samples block {}; change_file_index={}...\".format(self.current_file_index, self.change_file_index))\n",
        "\n",
        "        self.sampling_size = sampling_size\n",
        "    \n",
        "        if self.sampling_size is not None:\n",
        "            self.dataset_size = self.sampling_size\n",
        "            self.sample_data()\n",
        "        else:\n",
        "            self.dataset_size = len(self.db)\n",
        "\n",
        "\n",
        "\n",
        "    def sample_data(self):\n",
        "        self.selected_samples = np.random.choice(list(range(len(self.db))), self.sampling_size, replace=False)\n",
        "        self.sampled_db = [self.db[i] for i in self.selected_samples]\n",
        "\n",
        "        print(\"Updating the sampled dataset itens; sample DB size: {}\".format(len(self.sampled_db)))\n",
        "\n",
        "\n",
        "\n",
        "    def update_dataset(self):\n",
        "        if self.change_file_index:\n",
        "            self.current_file_index = (self.current_file_index + 1) % len(self.samples_blocks_filenames)\n",
        "\n",
        "            with open(self.samples_blocks_filenames[self.current_file_index], \"rb\") as inputFile:\n",
        "                self.db = pickle.load(inputFile)\n",
        "\n",
        "            print(\"Updating dataset loading samples block {}; change_file_index={}...\".format(self.current_file_index, self.change_file_index))\n",
        "\n",
        "        if self.sampling_size is not None:\n",
        "            self.sample_data()\n",
        "        else:\n",
        "            self.dataset_size = len(self.db)\n",
        "\n",
        "\n",
        "\n",
        "    def __len__(self):\n",
        "        return self.dataset_size\n",
        "\n",
        "\n",
        "\n",
        "    def __getitem__(self, idx):\n",
        "\n",
        "        if self.sampling_size is not None:\n",
        "            return {'input_ids': self.sampled_db[idx]['input_ids'],\n",
        "                    'attention_mask': self.sampled_db[idx]['attention_mask'],\n",
        "                    'labels': self.sampled_db[idx]['input_ids'].copy()}\n",
        "        else:\n",
        "            return {'input_ids': self.db[idx]['input_ids'],\n",
        "                    'attention_mask': self.db[idx]['attention_mask'],\n",
        "                    'labels': self.db[idx]['input_ids'].copy()}"
      ],
      "metadata": {
        "id": "pk90h5aDx2q2"
      },
      "execution_count": 14,
      "outputs": []
    },
    {
      "cell_type": "markdown",
      "source": [
        "Create a callback to update the datasets and save a checkpoint of the best epoch yet."
      ],
      "metadata": {
        "id": "8sJYGLVq3sJo"
      }
    },
    {
      "cell_type": "code",
      "source": [
        "class CustomTrainerCallback(TrainerCallback):\n",
        "\n",
        "    def __init__(self, best_validation_yet=99999, model=None, train_dataset=None, eval_dataset=None) -> None:\n",
        "        super().__init__()\n",
        "\n",
        "        self.best_validation_loss = best_validation_yet\n",
        "        self.model = model\n",
        "        self.train_dataset = train_dataset\n",
        "        self.eval_dataset = eval_dataset\n",
        "\n",
        "\n",
        "    def on_epoch_end(self, args, state, control, train_dataloader=None, eval_dataloader=None, **kwargs):\n",
        "        self.train_dataset.update_dataset()\n",
        "        self.eval_dataset.update_dataset()\n",
        "\n",
        "\n",
        "    def on_evaluate(self, args, state, control, model=None, metrics=None, **kwargs):\n",
        "        # print(metrics.keys())\n",
        "\n",
        "        try:\n",
        "            perplexity = np.exp(metrics[\"eval_loss\"])\n",
        "        except OverflowError:\n",
        "            perplexity = float(\"inf\")\n",
        "\n",
        "        metrics['perplexity'] = perplexity\n",
        "\n",
        "        # print(\"perplexity={}\".format(metrics['perplexity']))\n",
        "\n",
        "        if metrics['eval_loss'] < self.best_validation_loss:\n",
        "            self.model.save_pretrained(os.path.join(TRAIN_OUTPUT_FOLDER, \n",
        "                                                    \"checkpoint-{}-{:.4f}\".format(state.global_step,\n",
        "                                                                                  metrics['eval_loss'])))\n",
        "            self.best_validation_loss = metrics['eval_loss']"
      ],
      "metadata": {
        "id": "4zE1D83l2vYN"
      },
      "execution_count": 15,
      "outputs": []
    },
    {
      "cell_type": "markdown",
      "source": [
        "Prepare the data"
      ],
      "metadata": {
        "id": "WpuFpHXyN-cg"
      }
    },
    {
      "cell_type": "code",
      "source": [
        "train_dataset = Dataset(data_blocks[:-1])#, sampling_size=3000)"
      ],
      "metadata": {
        "id": "ZJc4Ak_H5tw8",
        "colab": {
          "base_uri": "https://localhost:8080/"
        },
        "outputId": "83cc85f4-53e7-452e-8db1-e01cafcbf21e"
      },
      "execution_count": 27,
      "outputs": [
        {
          "output_type": "stream",
          "name": "stdout",
          "text": [
            "Dataset loading samples block 0; change_file_index=True...\n"
          ]
        }
      ]
    },
    {
      "cell_type": "code",
      "source": [
        "eval_dataset = Dataset(data_blocks, len(data_blocks) - 1, sampling_size=3000)"
      ],
      "metadata": {
        "id": "Dp8cjYTZ-VJw",
        "colab": {
          "base_uri": "https://localhost:8080/"
        },
        "outputId": "2935562f-4ebd-436b-afcc-fd3095b07610"
      },
      "execution_count": null,
      "outputs": [
        {
          "output_type": "stream",
          "name": "stdout",
          "text": [
            "Dataset loading samples block 24; change_file_index=False...\n",
            "Updating the sampled dataset itens; sample DB size: 3000\n"
          ]
        }
      ]
    },
    {
      "cell_type": "markdown",
      "source": [
        "Prepare the model"
      ],
      "metadata": {
        "id": "Awzi5Ads5J6M"
      }
    },
    {
      "cell_type": "code",
      "source": [
        "model = AutoModelForCausalLM.from_pretrained(MODEL_NAME).to(device)\n",
        "print('Parameters', model.num_parameters())"
      ],
      "metadata": {
        "id": "g1QZgeFy58CM",
        "colab": {
          "base_uri": "https://localhost:8080/",
          "height": 130,
          "referenced_widgets": [
            "b552f86af6704f4fbdefdd0f069e7c38",
            "5967798494f84419b4c21aae2b632e23",
            "159836a7c8124211982255adfd88bc9a",
            "ef7182c951be48a88b299512112b4bdd",
            "453bbe16b8fd495bba0586074a954439",
            "0d4ae1f1c7714097bbda88ec8e59a4d3",
            "9f3827bbe3044fe0a31dfeb960a4dc47",
            "38bc22d017964ab898ac5d36f408904d",
            "5369be7da0d849959e6df3a23ef223a0",
            "5398445dae2c42ad82b5d94c9a234402",
            "f6fde2a6ba0240fca89635086f0ab254",
            "a59de05fb7794be29e023516b3281a2a",
            "2a027b135d0f450aa93072ecefeb1f6a",
            "9d40a08deb2b407bacd292149596c2ca",
            "73a3f338d51248cdb1f2a876691fcf13",
            "63b8cdfb418044ad92b9ac15ee472b27",
            "b2d34e6d55a64d929a2b7c510e45f5db",
            "01270e52d080439b88fecc5a3b96fb7d",
            "901c5cfa9abd4faf8e1f2ce34f87c2be",
            "73deb36231124db2b36d613b7f0f3352",
            "f72679fe5eb6437c9ba1abfb51e7be5a",
            "2a4dc19b9bf34ef7b39dd78ffbba839d",
            "e4a1ded89d7e434987ccfb481617bb65",
            "9d36d133cdbf4007b3b0136babd36c1b",
            "bf8388544cd04a658b203822f6718d5b",
            "ba323192804d4c93a05d972f50d145a1",
            "3c78f6a209cf486d9612c8728262ed05",
            "f33a8b57605f426c8b7c3edee4fb0653",
            "991b331f92784c7abc48c9261b9ad3a3",
            "87effd7e194042169f318bc79d3de7c5",
            "365909101b534b358bc52a5f128350f4",
            "18ea6837d40c4364847ab8e308cead54",
            "2333e40393034945b8469347d3b46c97"
          ]
        },
        "outputId": "24333aa6-afe2-4240-c881-0b57cca2245b"
      },
      "execution_count": 16,
      "outputs": [
        {
          "output_type": "display_data",
          "data": {
            "text/plain": [
              "Downloading (…)lve/main/config.json:   0%|          | 0.00/651 [00:00<?, ?B/s]"
            ],
            "application/vnd.jupyter.widget-view+json": {
              "version_major": 2,
              "version_minor": 0,
              "model_id": "b552f86af6704f4fbdefdd0f069e7c38"
            }
          },
          "metadata": {}
        },
        {
          "output_type": "display_data",
          "data": {
            "text/plain": [
              "Downloading pytorch_model.bin:   0%|          | 0.00/251M [00:00<?, ?B/s]"
            ],
            "application/vnd.jupyter.widget-view+json": {
              "version_major": 2,
              "version_minor": 0,
              "model_id": "a59de05fb7794be29e023516b3281a2a"
            }
          },
          "metadata": {}
        },
        {
          "output_type": "display_data",
          "data": {
            "text/plain": [
              "Downloading (…)neration_config.json:   0%|          | 0.00/137 [00:00<?, ?B/s]"
            ],
            "application/vnd.jupyter.widget-view+json": {
              "version_major": 2,
              "version_minor": 0,
              "model_id": "e4a1ded89d7e434987ccfb481617bb65"
            }
          },
          "metadata": {}
        },
        {
          "output_type": "stream",
          "name": "stdout",
          "text": [
            "Parameters 125239296\n"
          ]
        }
      ]
    },
    {
      "cell_type": "markdown",
      "source": [
        "Prepare the trainer"
      ],
      "metadata": {
        "id": "PrOgu5k96LTn"
      }
    },
    {
      "cell_type": "code",
      "source": [
        "batch_size=4\n",
        "epochs=24"
      ],
      "metadata": {
        "id": "kT5rUueI658D"
      },
      "execution_count": 17,
      "outputs": []
    },
    {
      "cell_type": "code",
      "source": [
        "training_params = TrainingArguments(output_dir=TRAIN_OUTPUT_FOLDER,\n",
        "                                    num_train_epochs=epochs,\n",
        "                                    per_device_train_batch_size=batch_size,\n",
        "                                    per_device_eval_batch_size=batch_size,\n",
        "                                    evaluation_strategy='epoch',\n",
        "                                    save_strategy='steps',\n",
        "                                    save_steps=10000,\n",
        "                                    logging_strategy='steps',\n",
        "                                    logging_steps=10,\n",
        "                                    save_total_limit=10,\n",
        "                                    # report_to='comet_ml',\n",
        "                                    dataloader_num_workers=2,\n",
        "                                    dataloader_pin_memory=False,\n",
        "                                    fp16=True)"
      ],
      "metadata": {
        "id": "99L0Mq_p7s4M"
      },
      "execution_count": 18,
      "outputs": []
    },
    {
      "cell_type": "code",
      "source": [
        "trainer_callback = CustomTrainerCallback(best_validation_yet=999999, \n",
        "                                         model=model, \n",
        "                                         train_dataset=train_dataset, \n",
        "                                         eval_dataset=eval_dataset)"
      ],
      "metadata": {
        "id": "phSscTZI3hO4"
      },
      "execution_count": null,
      "outputs": []
    },
    {
      "cell_type": "code",
      "source": [
        "num_training_steps = epochs * len(train_dataset)\n",
        "\n",
        "optimzer = torch.optim.AdamW(model.parameters(), lr=5e-4, weight_decay=1e-3)\n",
        "scheduler = get_cosine_with_hard_restarts_schedule_with_warmup(optimzer, \n",
        "                                                               num_training_steps * 0.1, \n",
        "                                                               num_training_steps, \n",
        "                                                               num_cycles=80)"
      ],
      "metadata": {
        "id": "8y9rWOcRbZoV"
      },
      "execution_count": null,
      "outputs": []
    },
    {
      "cell_type": "code",
      "source": [
        "trainer = Trainer(model=model,\n",
        "                  args=training_params,\n",
        "                  train_dataset=train_dataset,\n",
        "                  eval_dataset=eval_dataset,\n",
        "                  callbacks=[trainer_callback],\n",
        "                  optimizers=(optimzer, scheduler)\n",
        "                 )"
      ],
      "metadata": {
        "id": "77Sgz4OB8nMp"
      },
      "execution_count": null,
      "outputs": []
    },
    {
      "cell_type": "code",
      "source": [
        "train_result = trainer.train()"
      ],
      "metadata": {
        "colab": {
          "base_uri": "https://localhost:8080/",
          "height": 1000
        },
        "id": "OTFtBSwwgKdu",
        "outputId": "3b2da1d5-50ca-4a03-c49f-0937d7174114"
      },
      "execution_count": null,
      "outputs": [
        {
          "data": {
            "text/html": [
              "\n",
              "    <div>\n",
              "      \n",
              "      <progress value='52549' max='92472' style='width:300px; height:20px; vertical-align: middle;'></progress>\n",
              "      [52549/92472 5:38:46 < 4:17:23, 2.59 it/s, Epoch 14.09/24]\n",
              "    </div>\n",
              "    <table border=\"1\" class=\"dataframe\">\n",
              "  <thead>\n",
              " <tr style=\"text-align: left;\">\n",
              "      <th>Epoch</th>\n",
              "      <th>Training Loss</th>\n",
              "      <th>Validation Loss</th>\n",
              "      <th></th>\n",
              "    </tr>\n",
              "  </thead>\n",
              "  <tbody>\n",
              "    <tr>\n",
              "      <td>1</td>\n",
              "      <td>1.573900</td>\n",
              "      <td>1.536855</td>\n",
              "      <td>4.649945</td>\n",
              "    </tr>\n",
              "    <tr>\n",
              "      <td>2</td>\n",
              "      <td>1.582000</td>\n",
              "      <td>1.457014</td>\n",
              "      <td>4.293122</td>\n",
              "    </tr>\n",
              "    <tr>\n",
              "      <td>3</td>\n",
              "      <td>1.489500</td>\n",
              "      <td>1.405658</td>\n",
              "      <td>4.078208</td>\n",
              "    </tr>\n",
              "    <tr>\n",
              "      <td>4</td>\n",
              "      <td>1.413400</td>\n",
              "      <td>1.403137</td>\n",
              "      <td>4.067940</td>\n",
              "    </tr>\n",
              "    <tr>\n",
              "      <td>5</td>\n",
              "      <td>1.613200</td>\n",
              "      <td>1.383870</td>\n",
              "      <td>3.990313</td>\n",
              "    </tr>\n",
              "    <tr>\n",
              "      <td>6</td>\n",
              "      <td>1.465400</td>\n",
              "      <td>1.380773</td>\n",
              "      <td>3.977976</td>\n",
              "    </tr>\n",
              "    <tr>\n",
              "      <td>7</td>\n",
              "      <td>1.406300</td>\n",
              "      <td>1.383140</td>\n",
              "      <td>3.987402</td>\n",
              "    </tr>\n",
              "    <tr>\n",
              "      <td>8</td>\n",
              "      <td>1.442900</td>\n",
              "      <td>1.365949</td>\n",
              "      <td>3.919441</td>\n",
              "    </tr>\n",
              "    <tr>\n",
              "      <td>9</td>\n",
              "      <td>1.453800</td>\n",
              "      <td>1.368323</td>\n",
              "      <td>3.928757</td>\n",
              "    </tr>\n",
              "    <tr>\n",
              "      <td>10</td>\n",
              "      <td>1.382900</td>\n",
              "      <td>1.381435</td>\n",
              "      <td>3.980608</td>\n",
              "    </tr>\n",
              "    <tr>\n",
              "      <td>11</td>\n",
              "      <td>1.244700</td>\n",
              "      <td>1.290495</td>\n",
              "      <td>3.634586</td>\n",
              "    </tr>\n",
              "    <tr>\n",
              "      <td>12</td>\n",
              "      <td>1.322400</td>\n",
              "      <td>1.261187</td>\n",
              "      <td>3.529608</td>\n",
              "    </tr>\n",
              "    <tr>\n",
              "      <td>13</td>\n",
              "      <td>1.228000</td>\n",
              "      <td>1.266739</td>\n",
              "      <td>3.549259</td>\n",
              "    </tr>\n",
              "    <tr>\n",
              "      <td>14</td>\n",
              "      <td>1.297100</td>\n",
              "      <td>1.301353</td>\n",
              "      <td>3.674265</td>\n",
              "    </tr>\n",
              "  </tbody>\n",
              "</table><p>"
            ],
            "text/plain": [
              "<IPython.core.display.HTML object>"
            ]
          },
          "metadata": {},
          "output_type": "display_data"
        },
        {
          "name": "stdout",
          "output_type": "stream",
          "text": [
            "Updating dataset loading samples block 1; change_file_index=True...\n",
            "Updating the sampled dataset itens; sample DB size: 3000\n",
            "Updating dataset loading samples block 2; change_file_index=True...\n",
            "Updating the sampled dataset itens; sample DB size: 3000\n",
            "Updating dataset loading samples block 3; change_file_index=True...\n",
            "Updating the sampled dataset itens; sample DB size: 3000\n",
            "Updating dataset loading samples block 4; change_file_index=True...\n",
            "Updating the sampled dataset itens; sample DB size: 3000\n",
            "Updating dataset loading samples block 5; change_file_index=True...\n",
            "Updating the sampled dataset itens; sample DB size: 3000\n",
            "Updating dataset loading samples block 6; change_file_index=True...\n",
            "Updating the sampled dataset itens; sample DB size: 3000\n",
            "Updating dataset loading samples block 7; change_file_index=True...\n",
            "Updating the sampled dataset itens; sample DB size: 3000\n",
            "Updating dataset loading samples block 8; change_file_index=True...\n",
            "Updating the sampled dataset itens; sample DB size: 3000\n",
            "Updating dataset loading samples block 9; change_file_index=True...\n",
            "Updating the sampled dataset itens; sample DB size: 3000\n",
            "Updating dataset loading samples block 10; change_file_index=True...\n",
            "Updating the sampled dataset itens; sample DB size: 3000\n",
            "Updating dataset loading samples block 11; change_file_index=True...\n",
            "Updating the sampled dataset itens; sample DB size: 3000\n",
            "Updating dataset loading samples block 12; change_file_index=True...\n",
            "Updating the sampled dataset itens; sample DB size: 3000\n",
            "Updating dataset loading samples block 13; change_file_index=True...\n",
            "Updating the sampled dataset itens; sample DB size: 3000\n",
            "Updating dataset loading samples block 14; change_file_index=True...\n",
            "Updating the sampled dataset itens; sample DB size: 3000\n"
          ]
        },
        {
          "output_type": "display_data",
          "data": {
            "text/plain": [
              "<IPython.core.display.HTML object>"
            ],
            "text/html": [
              "\n",
              "    <div>\n",
              "      \n",
              "      <progress value='89685' max='92472' style='width:300px; height:20px; vertical-align: middle;'></progress>\n",
              "      [89685/92472 9:41:37 < 18:04, 2.57 it/s, Epoch 24/24]\n",
              "    </div>\n",
              "    <table border=\"1\" class=\"dataframe\">\n",
              "  <thead>\n",
              " <tr style=\"text-align: left;\">\n",
              "      <th>Epoch</th>\n",
              "      <th>Training Loss</th>\n",
              "      <th>Validation Loss</th>\n",
              "      <th></th>\n",
              "    </tr>\n",
              "  </thead>\n",
              "  <tbody>\n",
              "    <tr>\n",
              "      <td>1</td>\n",
              "      <td>1.573900</td>\n",
              "      <td>1.536855</td>\n",
              "      <td>4.649945</td>\n",
              "    </tr>\n",
              "    <tr>\n",
              "      <td>2</td>\n",
              "      <td>1.582000</td>\n",
              "      <td>1.457014</td>\n",
              "      <td>4.293122</td>\n",
              "    </tr>\n",
              "    <tr>\n",
              "      <td>3</td>\n",
              "      <td>1.489500</td>\n",
              "      <td>1.405658</td>\n",
              "      <td>4.078208</td>\n",
              "    </tr>\n",
              "    <tr>\n",
              "      <td>4</td>\n",
              "      <td>1.413400</td>\n",
              "      <td>1.403137</td>\n",
              "      <td>4.067940</td>\n",
              "    </tr>\n",
              "    <tr>\n",
              "      <td>5</td>\n",
              "      <td>1.613200</td>\n",
              "      <td>1.383870</td>\n",
              "      <td>3.990313</td>\n",
              "    </tr>\n",
              "    <tr>\n",
              "      <td>6</td>\n",
              "      <td>1.465400</td>\n",
              "      <td>1.380773</td>\n",
              "      <td>3.977976</td>\n",
              "    </tr>\n",
              "    <tr>\n",
              "      <td>7</td>\n",
              "      <td>1.406300</td>\n",
              "      <td>1.383140</td>\n",
              "      <td>3.987402</td>\n",
              "    </tr>\n",
              "    <tr>\n",
              "      <td>8</td>\n",
              "      <td>1.442900</td>\n",
              "      <td>1.365949</td>\n",
              "      <td>3.919441</td>\n",
              "    </tr>\n",
              "    <tr>\n",
              "      <td>9</td>\n",
              "      <td>1.453800</td>\n",
              "      <td>1.368323</td>\n",
              "      <td>3.928757</td>\n",
              "    </tr>\n",
              "    <tr>\n",
              "      <td>10</td>\n",
              "      <td>1.382900</td>\n",
              "      <td>1.381435</td>\n",
              "      <td>3.980608</td>\n",
              "    </tr>\n",
              "    <tr>\n",
              "      <td>11</td>\n",
              "      <td>1.244700</td>\n",
              "      <td>1.290495</td>\n",
              "      <td>3.634586</td>\n",
              "    </tr>\n",
              "    <tr>\n",
              "      <td>12</td>\n",
              "      <td>1.322400</td>\n",
              "      <td>1.261187</td>\n",
              "      <td>3.529608</td>\n",
              "    </tr>\n",
              "    <tr>\n",
              "      <td>13</td>\n",
              "      <td>1.228000</td>\n",
              "      <td>1.266739</td>\n",
              "      <td>3.549259</td>\n",
              "    </tr>\n",
              "    <tr>\n",
              "      <td>14</td>\n",
              "      <td>1.297100</td>\n",
              "      <td>1.301353</td>\n",
              "      <td>3.674265</td>\n",
              "    </tr>\n",
              "    <tr>\n",
              "      <td>15</td>\n",
              "      <td>1.202600</td>\n",
              "      <td>1.278248</td>\n",
              "      <td>3.590343</td>\n",
              "    </tr>\n",
              "    <tr>\n",
              "      <td>16</td>\n",
              "      <td>1.297000</td>\n",
              "      <td>1.279485</td>\n",
              "      <td>3.594789</td>\n",
              "    </tr>\n",
              "    <tr>\n",
              "      <td>17</td>\n",
              "      <td>1.507400</td>\n",
              "      <td>1.281711</td>\n",
              "      <td>3.602800</td>\n",
              "    </tr>\n",
              "    <tr>\n",
              "      <td>18</td>\n",
              "      <td>1.359200</td>\n",
              "      <td>1.291012</td>\n",
              "      <td>3.636465</td>\n",
              "    </tr>\n",
              "    <tr>\n",
              "      <td>19</td>\n",
              "      <td>1.324700</td>\n",
              "      <td>1.302214</td>\n",
              "      <td>3.677429</td>\n",
              "    </tr>\n",
              "    <tr>\n",
              "      <td>20</td>\n",
              "      <td>1.116900</td>\n",
              "      <td>1.291576</td>\n",
              "      <td>3.638516</td>\n",
              "    </tr>\n",
              "    <tr>\n",
              "      <td>21</td>\n",
              "      <td>1.162100</td>\n",
              "      <td>1.239035</td>\n",
              "      <td>3.452282</td>\n",
              "    </tr>\n",
              "    <tr>\n",
              "      <td>22</td>\n",
              "      <td>1.299900</td>\n",
              "      <td>1.245573</td>\n",
              "      <td>3.474925</td>\n",
              "    </tr>\n",
              "    <tr>\n",
              "      <td>23</td>\n",
              "      <td>1.235900</td>\n",
              "      <td>1.244198</td>\n",
              "      <td>3.470150</td>\n",
              "    </tr>\n",
              "    <tr>\n",
              "      <td>24</td>\n",
              "      <td>1.147000</td>\n",
              "      <td>1.230991</td>\n",
              "      <td>3.424622</td>\n",
              "    </tr>\n",
              "  </tbody>\n",
              "</table><p>"
            ]
          },
          "metadata": {}
        },
        {
          "output_type": "stream",
          "name": "stdout",
          "text": [
            "Updating dataset loading samples block 15; change_file_index=True...\n",
            "Updating the sampled dataset itens; sample DB size: 3000\n",
            "Updating dataset loading samples block 16; change_file_index=True...\n",
            "Updating the sampled dataset itens; sample DB size: 3000\n",
            "Updating dataset loading samples block 17; change_file_index=True...\n",
            "Updating the sampled dataset itens; sample DB size: 3000\n",
            "Updating dataset loading samples block 18; change_file_index=True...\n",
            "Updating the sampled dataset itens; sample DB size: 3000\n",
            "Updating dataset loading samples block 19; change_file_index=True...\n",
            "Updating the sampled dataset itens; sample DB size: 3000\n",
            "Updating dataset loading samples block 20; change_file_index=True...\n",
            "Updating the sampled dataset itens; sample DB size: 3000\n",
            "Updating dataset loading samples block 21; change_file_index=True...\n",
            "Updating the sampled dataset itens; sample DB size: 3000\n",
            "Updating dataset loading samples block 22; change_file_index=True...\n",
            "Updating the sampled dataset itens; sample DB size: 3000\n",
            "Updating dataset loading samples block 23; change_file_index=True...\n",
            "Updating the sampled dataset itens; sample DB size: 3000\n",
            "Updating dataset loading samples block 0; change_file_index=True...\n",
            "Updating the sampled dataset itens; sample DB size: 3000\n"
          ]
        }
      ]
    },
    {
      "cell_type": "code",
      "source": [],
      "metadata": {
        "id": "y0G-3UqCFfVi"
      },
      "execution_count": null,
      "outputs": []
    },
    {
      "cell_type": "markdown",
      "source": [
        "# Just evaluate against the entire evaluation dataset"
      ],
      "metadata": {
        "id": "CX-nHhLpc23F"
      }
    },
    {
      "cell_type": "code",
      "source": [
        "eval_dataset = Dataset(data_blocks, len(data_blocks) - 1)"
      ],
      "metadata": {
        "id": "YxZTGBlX8fbe",
        "colab": {
          "base_uri": "https://localhost:8080/"
        },
        "outputId": "a6fce878-ccea-42e5-858b-f62ea5893d46"
      },
      "execution_count": 20,
      "outputs": [
        {
          "output_type": "stream",
          "name": "stdout",
          "text": [
            "Dataset loading samples block 24; change_file_index=False...\n"
          ]
        }
      ]
    },
    {
      "cell_type": "code",
      "source": [
        "model = AutoModelForCausalLM.from_pretrained(\"trained_model_2048/checkpoint-89685-1.2310\").to(device)\n",
        "print('Parameters', model.num_parameters())"
      ],
      "metadata": {
        "colab": {
          "base_uri": "https://localhost:8080/"
        },
        "outputId": "33d9bc52-a800-4dbb-8240-8332151d09e2",
        "id": "0k3f_tI3nJjs"
      },
      "execution_count": 21,
      "outputs": [
        {
          "output_type": "stream",
          "name": "stdout",
          "text": [
            "Parameters 125239296\n"
          ]
        }
      ]
    },
    {
      "cell_type": "markdown",
      "source": [
        "Prepare the trainer"
      ],
      "metadata": {
        "id": "YoJvuv4bnJjt"
      }
    },
    {
      "cell_type": "code",
      "source": [
        "batch_size=4\n",
        "epochs=1"
      ],
      "metadata": {
        "id": "F4-hIZM_nJju"
      },
      "execution_count": 22,
      "outputs": []
    },
    {
      "cell_type": "code",
      "source": [
        "training_params = TrainingArguments(output_dir=TRAIN_OUTPUT_FOLDER,\n",
        "                                    num_train_epochs=epochs,\n",
        "                                    per_device_train_batch_size=batch_size,\n",
        "                                    per_device_eval_batch_size=batch_size,\n",
        "                                    evaluation_strategy='epoch',\n",
        "                                    save_strategy='steps',\n",
        "                                    save_steps=10000,\n",
        "                                    logging_strategy='steps',\n",
        "                                    logging_steps=10,\n",
        "                                    save_total_limit=10,\n",
        "                                    # report_to='comet_ml',\n",
        "                                    dataloader_num_workers=2,\n",
        "                                    dataloader_pin_memory=False,\n",
        "                                    fp16=True)"
      ],
      "metadata": {
        "id": "xhWqIRvJnJju"
      },
      "execution_count": 23,
      "outputs": []
    },
    {
      "cell_type": "code",
      "source": [
        "trainer_callback = CustomTrainerCallback(best_validation_yet=1.230991, \n",
        "                                         model=model, \n",
        "                                         train_dataset=train_dataset, \n",
        "                                         eval_dataset=eval_dataset)"
      ],
      "metadata": {
        "id": "PYpEQaPemX_R"
      },
      "execution_count": 28,
      "outputs": []
    },
    {
      "cell_type": "code",
      "source": [
        "num_training_steps = epochs * len(train_dataset)\n",
        "\n",
        "optimzer = torch.optim.AdamW(model.parameters(), lr=5e-4, weight_decay=1e-3)\n",
        "scheduler = get_cosine_with_hard_restarts_schedule_with_warmup(optimzer, \n",
        "                                                               num_training_steps * 0.1, \n",
        "                                                               num_training_steps, \n",
        "                                                               num_cycles=80)"
      ],
      "metadata": {
        "id": "1h6rLaHOmX_S"
      },
      "execution_count": 29,
      "outputs": []
    },
    {
      "cell_type": "code",
      "source": [
        "trainer = Trainer(model=model,\n",
        "                  args=training_params,\n",
        "                  train_dataset=train_dataset,\n",
        "                  eval_dataset=eval_dataset,\n",
        "                  callbacks=[trainer_callback],\n",
        "                  optimizers=(optimzer, scheduler)\n",
        "                 )"
      ],
      "metadata": {
        "id": "bV6__ucynwYo"
      },
      "execution_count": 31,
      "outputs": []
    },
    {
      "cell_type": "code",
      "source": [
        "evaluation_result = trainer.evaluate()"
      ],
      "metadata": {
        "colab": {
          "base_uri": "https://localhost:8080/",
          "height": 37
        },
        "id": "jUKSb9OImZXe",
        "outputId": "02de1812-7183-4637-846c-faf3516eb30b"
      },
      "execution_count": 32,
      "outputs": [
        {
          "output_type": "display_data",
          "data": {
            "text/plain": [
              "<IPython.core.display.HTML object>"
            ],
            "text/html": [
              "\n",
              "    <div>\n",
              "      \n",
              "      <progress value='3666' max='3666' style='width:300px; height:20px; vertical-align: middle;'></progress>\n",
              "      [3666/3666 07:47]\n",
              "    </div>\n",
              "    "
            ]
          },
          "metadata": {}
        }
      ]
    },
    {
      "cell_type": "code",
      "source": [
        "evaluation_result"
      ],
      "metadata": {
        "colab": {
          "base_uri": "https://localhost:8080/"
        },
        "id": "IVBARoGCnsNL",
        "outputId": "4ec06e51-1d3e-4de8-b280-9d2c336120b5"
      },
      "execution_count": 33,
      "outputs": [
        {
          "output_type": "execute_result",
          "data": {
            "text/plain": [
              "{'eval_loss': 1.2417575120925903,\n",
              " 'eval_runtime': 471.2032,\n",
              " 'eval_samples_per_second': 31.12,\n",
              " 'eval_steps_per_second': 7.78,\n",
              " 'perplexity': 3.4616920872759387}"
            ]
          },
          "metadata": {},
          "execution_count": 33
        }
      ]
    },
    {
      "cell_type": "code",
      "source": [],
      "metadata": {
        "id": "V2ha8LFDpoH8"
      },
      "execution_count": null,
      "outputs": []
    }
  ]
}